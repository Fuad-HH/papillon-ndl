{
 "cells": [
  {
   "cell_type": "markdown",
   "metadata": {},
   "source": [
    "# Python"
   ]
  },
  {
   "cell_type": "markdown",
   "metadata": {},
   "source": [
    "## Reading ACE Files\n",
    "To interact with nuclear data, we first need to read in an ACE file. ACE stands for A Compact ENDF. This if the format which many Monte Carlo codes (such as MCNP and Serpent) use for nuclear data. First we need to import the PapillonNDL library into Python, then we will read in a pre-prepared data file for U235."
   ]
  },
  {
   "cell_type": "code",
   "execution_count": 1,
   "metadata": {},
   "outputs": [],
   "source": [
    "from pyPapillonNDL import *\n",
    "U235ACE = ACE(\"92235.800nc\")"
   ]
  },
  {
   "cell_type": "markdown",
   "metadata": {},
   "source": [
    "With the ACE file read into memory, we can access the raw data in this manner should we so desire. We can get basic information such as whether the nuclide is fissile, the temerature at which the evaluation was prepared (given in kelvin !), and the atomic weight ratio."
   ]
  },
  {
   "cell_type": "code",
   "execution_count": 2,
   "metadata": {},
   "outputs": [
    {
     "name": "stdout",
     "output_type": "stream",
     "text": [
      "U235 is fissile: True\n",
      "Atomic Weight Ratio of U235 is 233.02480\n",
      "This evaluation was prepared at 293.606 kelvin\n"
     ]
    }
   ],
   "source": [
    "print(\"U235 is fissile: %r\" %U235ACE.fissile())\n",
    "print(\"Atomic Weight Ratio of U235 is %.5f\" %U235ACE.awr())\n",
    "print(\"This evaluation was prepared at %.3f kelvin\" %U235ACE.temperature())"
   ]
  },
  {
   "cell_type": "markdown",
   "metadata": {},
   "source": [
    "It is also possible to access the JXS, NXS, and XSS blocks directly. All values from the JXS and NXS blocks are given as integers, while values in the XSS block are given as floats (even if they are provided as a integer in the file)."
   ]
  },
  {
   "cell_type": "code",
   "execution_count": 3,
   "metadata": {},
   "outputs": [
    {
     "name": "stdout",
     "output_type": "stream",
     "text": [
      "Length of NXS block is 7168374\n",
      "First 5 elements of the XSS: [1e-11, 1.03125e-11, 1.0625e-11, 1.09375e-11, 1.125e-11]\n"
     ]
    }
   ],
   "source": [
    "len_of_xss = U235ACE.nxs(0)\n",
    "segment_of_xss = U235ACE.xss(0, 5)\n",
    "print(\"Length of NXS block is %i\" %len_of_xss)\n",
    "print(\"First 5 elements of the XSS: %r\" %segment_of_xss)"
   ]
  },
  {
   "cell_type": "markdown",
   "metadata": {},
   "source": [
    "Most of the time however, interacting with the raw ACE file is not very desireable. For ACE files which contain continuous energy neutron data, you can construct an `STNeutron` object, which allows for interaction with the data in a more natural manner. This object provides similar access to the temperature, and AWR, as well as cross sections and secondary energy distributions."
   ]
  },
  {
   "cell_type": "code",
   "execution_count": 4,
   "metadata": {},
   "outputs": [],
   "source": [
    "U235 = STNeutron(U235ACE)"
   ]
  },
  {
   "cell_type": "markdown",
   "metadata": {},
   "source": [
    "## MCNP and Serpent Libraries\n",
    "\n",
    "While it is possible to load ACE files individually to create `STNeutron` instances, this can become tedious when more nuclides or temperatures are needed. Instead, you can directly read either an MCNP or a Serpent cross section library.\n"
   ]
  },
  {
   "cell_type": "code",
   "execution_count": 5,
   "metadata": {},
   "outputs": [],
   "source": [
    "lib = MCNPLibrary(\"/home/hunter/Documents/nuclear_data/lib80x/ace/lib80x.xsdir\")"
   ]
  },
  {
   "cell_type": "markdown",
   "metadata": {},
   "source": [
    "From a library, you can directly load a nuclide using the element symbol, and the atomic mass number of the isotope. You must also specify the desired temperature for the data, and a temperature tolerance (which is 1 Kelvin by default). If you don't know what temperatures are provided in the library, you can get a list of the provided data for the symbol:"
   ]
  },
  {
   "cell_type": "code",
   "execution_count": 6,
   "metadata": {},
   "outputs": [
    {
     "data": {
      "text/plain": [
       "[0.100000774447288,\n",
       " 249.99613385916,\n",
       " 293.60591295412,\n",
       " 600.00000487648,\n",
       " 900.00000731472,\n",
       " 1200.0232187892002,\n",
       " 2499.9613385916]"
      ]
     },
     "execution_count": 6,
     "metadata": {},
     "output_type": "execute_result"
    }
   ],
   "source": [
    "lib.temperatures(\"U235\")"
   ]
  },
  {
   "cell_type": "markdown",
   "metadata": {},
   "source": [
    "Let's grab the evaluation for U235 at 293.6 Kelvin:"
   ]
  },
  {
   "cell_type": "code",
   "execution_count": 7,
   "metadata": {},
   "outputs": [],
   "source": [
    "U235 = lib.load_STNeutron(\"U235\", 293.6)"
   ]
  },
  {
   "cell_type": "markdown",
   "metadata": {},
   "source": [
    "## Evaluating and Plotting Cross Sections\n",
    "From the `STNeutron` object, it is possible to get instances of callable `CrossSection` objects for the total, elastic, dissapearance, and fission cross sections. These facilitate the evaluation of cross sections at a provided energy (in units of MeV)."
   ]
  },
  {
   "cell_type": "code",
   "execution_count": 8,
   "metadata": {},
   "outputs": [
    {
     "name": "stdout",
     "output_type": "stream",
     "text": [
      "Total XS at 0.3 MeV = 9.74688 barns\n",
      "Elastic Scattering XS at 0.3 MeV = 7.13012 barns\n",
      "Disappearance XS at 0.3 MeV = 0.21780 barns\n",
      "Fission XS at 0.3 MeV = 1.23070 barns\n"
     ]
    }
   ],
   "source": [
    "total_xs = U235.total_xs()\n",
    "elastic_xs = U235.elastic_xs()\n",
    "disappearance_xs = U235.disappearance_xs()\n",
    "fission_xs = U235.fission_xs()\n",
    "\n",
    "print(\"Total XS at 0.3 MeV = %.5f barns\" %total_xs(0.3))\n",
    "print(\"Elastic Scattering XS at 0.3 MeV = %.5f barns\" %elastic_xs(0.3))\n",
    "print(\"Disappearance XS at 0.3 MeV = %.5f barns\" %disappearance_xs(0.3))\n",
    "print(\"Fission XS at 0.3 MeV = %.5f barns\" %fission_xs(0.3))"
   ]
  },
  {
   "cell_type": "markdown",
   "metadata": {},
   "source": [
    "One of the most time consuming parts of looking-up a cross sections is locating the appropriate location in the energy grid. PapillonNDL implements the hashing method, which allows for a quick lookup of the energy index. This index can be provided as an optional argument, to speed up evaluations. If an energy grid index is not provided, binary search will be used to find the appropriate location in the grid."
   ]
  },
  {
   "cell_type": "code",
   "execution_count": 9,
   "metadata": {},
   "outputs": [
    {
     "name": "stdout",
     "output_type": "stream",
     "text": [
      "Total XS at 1.4 MeV = 6.74889 barns\n"
     ]
    }
   ],
   "source": [
    "indx = U235.energy_grid().get_lower_index(1.4)\n",
    "print(\"Total XS at 1.4 MeV = %.5f barns\" %total_xs(1.4, indx))"
   ]
  },
  {
   "cell_type": "markdown",
   "metadata": {},
   "source": [
    "It is very common to need to look up the total, elastic, fission, and absorption cross sections quite often. For this reason, a `XSPacket` class is provided, which contains these cross sections, and can be evaluated with"
   ]
  },
  {
   "cell_type": "code",
   "execution_count": 10,
   "metadata": {},
   "outputs": [
    {
     "name": "stdout",
     "output_type": "stream",
     "text": [
      "Total XS = 6.74889371\n",
      "Elastic XS = 3.55468\n",
      "Inelastic XS = 1.8799812289000002\n",
      "Absorption XS = 1.3142324811\n",
      "Fission XS = 1.2279\n"
     ]
    }
   ],
   "source": [
    "xspacket = U235.evaluate_xs(1.4, indx)\n",
    "print(\"Total XS =\", xspacket.total)\n",
    "print(\"Elastic XS =\", xspacket.elastic)\n",
    "print(\"Inelastic XS =\", xspacket.inelastic)\n",
    "print(\"Absorption XS =\", xspacket.absorption)\n",
    "print(\"Fission XS =\", xspacket.fission)"
   ]
  },
  {
   "cell_type": "markdown",
   "metadata": {},
   "source": [
    "PapillonNDL also makes it really easy to plot cross sections. To do this, we get instances of the `CrossSection` objects which we want to plot (such as total, fission, etc.), and we can then access the data as lists."
   ]
  },
  {
   "cell_type": "code",
   "execution_count": 11,
   "metadata": {},
   "outputs": [
    {
     "data": {
      "text/plain": [
       "<matplotlib.legend.Legend at 0x7f2b6e769690>"
      ]
     },
     "execution_count": 11,
     "metadata": {},
     "output_type": "execute_result"
    },
    {
     "data": {
      "image/png": "[encoded data removed]",
      "text/plain": [
       "<Figure size 432x288 with 1 Axes>"
      ]
     },
     "metadata": {
      "needs_background": "light"
     },
     "output_type": "display_data"
    }
   ],
   "source": [
    "import matplotlib.pyplot as plt\n",
    "plt.rcParams['figure.dpi'] = 175\n",
    "energy_grid = total_xs.energy()\n",
    "plt.plot(total_xs.energy(), total_xs.xs(), label='Total', linewidth=0.75)\n",
    "plt.plot(elastic_xs.energy(), elastic_xs.xs(), label='Elastic', linewidth=0.75)\n",
    "plt.plot(disappearance_xs.energy(), disappearance_xs.xs(), label='Disappearance', linewidth=0.75)\n",
    "plt.plot(fission_xs.energy(), fission_xs.xs(), label='Fission', linewidth=0.75)\n",
    "plt.xscale('log')\n",
    "plt.yscale('log')\n",
    "plt.xlabel('Energy [MeV]')\n",
    "plt.ylabel('Cross Section [barns]')\n",
    "plt.title('Cross Sections for U235 at %ik' %int(U235.temperature()))\n",
    "plt.tight_layout()\n",
    "plt.legend()"
   ]
  },
  {
   "cell_type": "markdown",
   "metadata": {},
   "source": [
    "## Interacting with Reaction Data\n",
    "Data which is related to a particular reaction, such as the cross section and secondary distributions, is stored in the corresponding `STReaction` class instance. You can check to see if an `STNeutron` instance has a particluar reaction MT and then get that reaction using:"
   ]
  },
  {
   "cell_type": "code",
   "execution_count": 12,
   "metadata": {},
   "outputs": [],
   "source": [
    "if U235.has_reaction(16):\n",
    "    n2n = U235.reaction(16)"
   ]
  },
  {
   "cell_type": "markdown",
   "metadata": {},
   "source": [
    "Here, `n2n` contains all the data for the MT=16 (n,2n) reaction for U235. One should always check that a desired reaction MT is actually contained in a `STNeutron` instance with the `has_reaction` method. If you try accessing an reaction which does not exists, an exception will be thrown."
   ]
  },
  {
   "cell_type": "code",
   "execution_count": 13,
   "metadata": {},
   "outputs": [
    {
     "name": "stdout",
     "output_type": "stream",
     "text": [
      "\n",
      " #---------------------------------------------------------------------------------\n",
      " # File: /home/hunter/projects/papillon-ndl/include/PapillonNDL/ce_neutron.hpp\n",
      " # Function: const pndl::STReaction& pndl::CENeutron<pndl::CrossSection>::reaction(uint32_t) const\n",
      " # Line: 119\n",
      " # \n",
      " # MT = 37 is not provided in ZAID = 92235.\n",
      " #---------------------------------------------------------------------------------\n",
      "\n"
     ]
    }
   ],
   "source": [
    "try:\n",
    "    n4n = U235.reaction(37)\n",
    "except Exception as e:\n",
    "    print(str(e))"
   ]
  },
  {
   "cell_type": "markdown",
   "metadata": {},
   "source": [
    "Only data related to scattering reactions which are not elastic (MT 2), and absorption reactions which are not related to fission (MT 18, 19, 20, 21, and 38) can be found with `STNeutron.has_reaction` and `STNeutron.reaction`. Because elastic scattering a fission are quite different, they are treated in a special manner, covered later on.\n",
    "\n",
    "Once we have an `STReaction` instance, we can get the threshold energy for the reaction to occur, the yield as a function of energy, the cross section, and the secondary distributions."
   ]
  },
  {
   "cell_type": "code",
   "execution_count": 14,
   "metadata": {},
   "outputs": [
    {
     "name": "stdout",
     "output_type": "stream",
     "text": [
      "(n,2n) threshold for U235 = 5.321 MeV\n",
      "Yield at 5.321 MeV = 2\n",
      "(n,2n) cross section at 6 MeV = 0.184 barns\n"
     ]
    }
   ],
   "source": [
    "n2n_threshold = n2n.threshold()\n",
    "print(\"(n,2n) threshold for U235 = %.3f MeV\" %n2n_threshold)\n",
    "\n",
    "# The C++ method 'yield' cannot be used in Python as it is a keyword.\n",
    "# Here, we must use the method name 'multiplicity'.\n",
    "print(\"Yield at %.3f MeV = %.f\" %(n2n_threshold,n2n.multiplicity()(n2n_threshold)))\n",
    "    \n",
    "n2n_xs = n2n.xs()\n",
    "print(\"(n,2n) cross section at 6 MeV = %.3f barns\" %n2n_xs(6.))"
   ]
  },
  {
   "cell_type": "markdown",
   "metadata": {},
   "source": [
    "We can easily sample the secondary distributions from reactions. All that must be provided is an incident energy, and a random number generator function, and the reaction will return an `AngleEnergyPacket` which contains the sampled cosine of the scattering angle, and outgoing energy *both in the LABORATORY frame*. PapillonNDL will convert all data sampled from reactions to the lab frame automatically. While not provided in the C++ version of the library, the Python version comes with a simple random number generator function by the name of `rng`. We can use that here to sample an energy and angle."
   ]
  },
  {
   "cell_type": "code",
   "execution_count": 15,
   "metadata": {},
   "outputs": [
    {
     "name": "stdout",
     "output_type": "stream",
     "text": [
      "Cosine of scattering angle = 0.55257\n",
      "Scattered energy = 0.38519 MeV\n"
     ]
    }
   ],
   "source": [
    "scatter_data = n2n.sample_neutron_angle_energy(6., rng)\n",
    "print(\"Cosine of scattering angle = %.5f\" %scatter_data.cosine_angle)\n",
    "print(\"Scattered energy = %.5f MeV\" %scatter_data.energy)"
   ]
  },
  {
   "cell_type": "markdown",
   "metadata": {},
   "source": [
    "We can even retrieve the angle-energy distributions for the reaction to take a closer look at the data if we want."
   ]
  },
  {
   "cell_type": "code",
   "execution_count": 16,
   "metadata": {},
   "outputs": [
    {
     "name": "stdout",
     "output_type": "stream",
     "text": [
      "<class 'pyPapillonNDL.CMDistribution'>\n"
     ]
    }
   ],
   "source": [
    "neutron_dist = n2n.neutron_distribution()\n",
    "print(type(neutron_dist))"
   ]
  },
  {
   "cell_type": "markdown",
   "metadata": {},
   "source": [
    "Through the magic of pybind11, Python will know the true type of distribution automatically, so you know how to look at it. To learn more about all of the different distribution types, try looking at the Library API documentation."
   ]
  },
  {
   "cell_type": "markdown",
   "metadata": {},
   "source": [
    "## Elastic Scattering\n",
    "\n",
    "Elastic scattering is somewhat peculiar, as there are many different approximation which can be made when performing the collision mechanics, to sample the outgoing energy and direction of a neutron after such a collision. The elastic data is stored in an `Elastic` instance, and can be retrieved with"
   ]
  },
  {
   "cell_type": "code",
   "execution_count": 17,
   "metadata": {},
   "outputs": [],
   "source": [
    "elastic = U235.elastic()"
   ]
  },
  {
   "cell_type": "markdown",
   "metadata": {},
   "source": [
    "One thing we can do is plot the elastic scattering angular distributions. We can look at the number of incident energies, and then get the `AngleLaw` corresponding to a particular incident energy."
   ]
  },
  {
   "cell_type": "code",
   "execution_count": 18,
   "metadata": {},
   "outputs": [
    {
     "data": {
      "image/png": "[encoded data removed]",
      "text/plain": [
       "<Figure size 432x288 with 1 Axes>"
      ]
     },
     "metadata": {
      "needs_background": "light"
     },
     "output_type": "display_data"
    },
    {
     "data": {
      "image/png": "[encoded data removed]",
      "text/plain": [
       "<Figure size 432x288 with 1 Axes>"
      ]
     },
     "metadata": {
      "needs_background": "light"
     },
     "output_type": "display_data"
    }
   ],
   "source": [
    "elastic_ad = elastic.angle_distribution()\n",
    "angular_law = elastic_ad.law(elastic_ad.size()-1)\n",
    "law_energy = elastic_ad.energy(elastic_ad.size()-1)\n",
    "\n",
    "if isinstance(angular_law, AngleTable):\n",
    "    plt.plot(angular_law.cosines(), angular_law.pdf(), linewidth=0.75)\n",
    "    plt.yscale('log')\n",
    "    plt.xlabel('Cosine of Scattering Angle')\n",
    "    plt.title('Elastic Scattering Angular PDF at %.1f MeV' %law_energy)\n",
    "    plt.show()\n",
    "    \n",
    "    plt.plot(angular_law.cosines(), angular_law.cdf(), linewidth=0.75)\n",
    "    plt.yscale('log')\n",
    "    plt.xlabel('Cosine of Scattering Angle')\n",
    "    plt.title('Elastic Scattering Angular CDF at %.1f MeV' %law_energy)\n",
    "    plt.show()"
   ]
  },
  {
   "cell_type": "markdown",
   "metadata": {},
   "source": [
    "By default, PapillonNDL will use the Sample Target Velocity (SVT) method to sample elastic scattering. This approximation is also refered to as the Constant Cross Section (CXS) approximation. While used ubiquitously in Monte Carlo codes, it is known to give inaccurate results when used for large nucleids which have resonances at low energies. If desired, you can manally change the approximation, by giving the `Elastic` instance a new `ElasticDopplerBroadener`. The two possible broadeners are `ElasticSVT` (the default), or `ElasticDBRC`, which applied the Doppler Broadening Resonance Correction (DBRC). This method requires the 0 Kelvin elastic scattering cross section, so we will load that, and the apply DBRC to U235."
   ]
  },
  {
   "cell_type": "code",
   "execution_count": 19,
   "metadata": {},
   "outputs": [],
   "source": [
    "U235_0K = lib.load_STNeutron(\"U235\", 0.)\n",
    "elastic.set_elastic_doppler_broadener(ElasticDBRC(U235_0K.elastic_xs()))"
   ]
  },
  {
   "cell_type": "markdown",
   "metadata": {},
   "source": [
    "Since the `Elastic` instance is returned by reference, chaning the Doppler Broadener in `Elastic` also changes it in the `U235` instance as well. We can verify this, as both has the same address in memory:"
   ]
  },
  {
   "cell_type": "code",
   "execution_count": 20,
   "metadata": {},
   "outputs": [
    {
     "name": "stdout",
     "output_type": "stream",
     "text": [
      "<pyPapillonNDL.Elastic object at 0x7f2b769e3db0>\n",
      "<pyPapillonNDL.Elastic object at 0x7f2b769e3db0>\n"
     ]
    }
   ],
   "source": [
    "print(elastic)\n",
    "print(U235.elastic())"
   ]
  },
  {
   "cell_type": "markdown",
   "metadata": {},
   "source": [
    "Another approximation we can change is the use of the Target at Rest (TAR) approximation. By default, TAR is used for all nuclides when the incident energy $E_{in}$ is larger than $400kT$, where $k$ is the Boltzmann constant, and $T$ is the nuclide temperature. It is generally a good idea to use this approximation when $E_{in} > 400kT$, as it does not significantly change results, and speeds up calculations. Most codes however do not use TAR for Hydrogen-1, as it is lighter than a neutron, and using this approximation can lead to inaccurate energy transfers. You can turn off TAR with"
   ]
  },
  {
   "cell_type": "code",
   "execution_count": 21,
   "metadata": {},
   "outputs": [],
   "source": [
    "elastic.set_use_tar(False)"
   ]
  },
  {
   "cell_type": "markdown",
   "metadata": {},
   "source": [
    "## Fission Data and Delayed Groups\n",
    "Data related to fission, such as the average number of neutrons emitted per fission, the number of delayed groups, and the delayed group information are held in the `Fission` class."
   ]
  },
  {
   "cell_type": "code",
   "execution_count": 22,
   "metadata": {},
   "outputs": [
    {
     "name": "stdout",
     "output_type": "stream",
     "text": [
      "Total   nu at 0.005 MeV = 2.422\n",
      "Prompt  nu at 0.005 MeV = 2.406\n",
      "Delayed nu at 0.005 MeV = 0.016\n"
     ]
    }
   ],
   "source": [
    "fission = U235.fission()\n",
    "nu_tot = fission.nu_total()\n",
    "nu_prmpt = fission.nu_prompt()\n",
    "nu_delyd = fission.nu_delayed()\n",
    "\n",
    "print(\"Total   nu at 0.005 MeV = %.3f\" %nu_tot(0.005))\n",
    "print(\"Prompt  nu at 0.005 MeV = %.3f\" %nu_prmpt(0.005))\n",
    "print(\"Delayed nu at 0.005 MeV = %.3f\" %nu_delyd(0.005))"
   ]
  },
  {
   "cell_type": "code",
   "execution_count": 23,
   "metadata": {},
   "outputs": [
    {
     "data": {
      "image/png": "[encoded data removed]",
      "text/plain": [
       "<Figure size 432x288 with 1 Axes>"
      ]
     },
     "metadata": {
      "needs_background": "light"
     },
     "output_type": "display_data"
    }
   ],
   "source": [
    "if isinstance(nu_tot, Tabulated1D):\n",
    "    plt.plot(nu_tot.x(), nu_tot.y(), linewidth=0.75)\n",
    "    plt.xlabel('Incident Energy [MeV]')\n",
    "    plt.ylabel('Average Number of Neutrons per Fission')\n",
    "    plt.xscale('log')\n",
    "    plt.show()"
   ]
  },
  {
   "cell_type": "markdown",
   "metadata": {},
   "source": [
    "The promp spectrum can be easily sampled as well."
   ]
  },
  {
   "cell_type": "code",
   "execution_count": 24,
   "metadata": {},
   "outputs": [
    {
     "name": "stdout",
     "output_type": "stream",
     "text": [
      "Prompt Fission Energy: 0.3256 MeV\n"
     ]
    }
   ],
   "source": [
    "prompt_ae = fission.prompt_spectrum().sample_angle_energy(0.0625E-6, rng)\n",
    "print(\"Prompt Fission Energy: %.4f MeV\" %prompt_ae.energy)"
   ]
  },
  {
   "cell_type": "markdown",
   "metadata": {},
   "source": [
    "A `DelayedGroup` contains the decay constant for precursors, and the probability that a precursor is born into that group for a given incident neutron energy. This is also where you will find the energy distributions for delayed neutrons. Delayed neutrons are always isotropic, and therefore, only the energy is sampled, and not the angle."
   ]
  },
  {
   "cell_type": "code",
   "execution_count": 25,
   "metadata": {},
   "outputs": [
    {
     "name": "stdout",
     "output_type": "stream",
     "text": [
      "U235 has 6 delayed neutron groups.\n"
     ]
    }
   ],
   "source": [
    "print(\"U235 has %i delayed neutron groups.\" %fission.n_delayed_groups())"
   ]
  },
  {
   "cell_type": "code",
   "execution_count": 26,
   "metadata": {},
   "outputs": [
    {
     "name": "stdout",
     "output_type": "stream",
     "text": [
      "Probability of being in group 1: 0.18070\n",
      "Decaye Constant for group 1: 0.03274 [1/s]\n",
      "Sampled delayed neutron energy: 0.41347 MeV\n"
     ]
    }
   ],
   "source": [
    "E = 1.E-8\n",
    "dg1 = fission.delayed_group(1)\n",
    "print(\"Probability of being in group 1: %.5f\" %dg1.probability()(E))\n",
    "print(\"Decaye Constant for group 1: %.5f [1/s]\" %dg1.decay_constant())\n",
    "print(\"Sampled delayed neutron energy: %.5f MeV\" %dg1.sample_energy(E, rng))"
   ]
  },
  {
   "cell_type": "markdown",
   "metadata": {},
   "source": [
    "## Unresolved Resonance Region Probability Tables\n",
    "\n",
    "At high energies, it becomes impossible to determine resonanace parameters. This region is called the Unresolved Resonance Region (URR). To correctly treat this portion of the energy spectrum, probability tables can be used. This information is stored in the `URRPTables` class. If the result of `URRPTables.is_valid()` is True, then URR data is provided, and can be used in transport."
   ]
  },
  {
   "cell_type": "code",
   "execution_count": 27,
   "metadata": {},
   "outputs": [
    {
     "data": {
      "text/plain": [
       "True"
      ]
     },
     "execution_count": 27,
     "metadata": {},
     "output_type": "execute_result"
    }
   ],
   "source": [
    "urrptables = U235.urr_ptables()\n",
    "urrptables.is_valid()"
   ]
  },
  {
   "cell_type": "markdown",
   "metadata": {},
   "source": [
    "For a given energy and nuclide, a random number $\\xi \\in [0,1)$ must be sampled. This same random value must be used for the given nuclide, no matter the temperature, untill the neutron has undergone a collision."
   ]
  },
  {
   "cell_type": "code",
   "execution_count": 28,
   "metadata": {},
   "outputs": [
    {
     "name": "stdout",
     "output_type": "stream",
     "text": [
      "Total XS = 6.708345507576451\n",
      "Elastic XS = 3.8101135864000004\n",
      "Inelastic XS = 1.6501790000000003\n",
      "Absorption XS = 1.2480529211764502\n",
      "Fission XS = 1.2452222465819998\n"
     ]
    }
   ],
   "source": [
    "xi = rng()\n",
    "urr_xs = urrptables.evaluate_xs_band(6.3, xi)\n",
    "print(\"Total XS =\", urr_xs.total)\n",
    "print(\"Elastic XS =\", urr_xs.elastic)\n",
    "print(\"Inelastic XS =\", urr_xs.inelastic)\n",
    "print(\"Absorption XS =\", urr_xs.absorption)\n",
    "print(\"Fission XS =\", urr_xs.fission)"
   ]
  },
  {
   "cell_type": "code",
   "execution_count": 29,
   "metadata": {},
   "outputs": [
    {
     "name": "stdout",
     "output_type": "stream",
     "text": [
      "URR Min Energy: 0.00225 MeV\n",
      "URR Max Energy: 0.02500 MeV\n"
     ]
    }
   ],
   "source": [
    "print(\"URR Min Energy: %.5f MeV\" %urrptables.min_energy())\n",
    "print(\"URR Max Energy: %.5f MeV\" %urrptables.max_energy())"
   ]
  },
  {
   "cell_type": "markdown",
   "metadata": {},
   "source": [
    "## Conclusions\n",
    "Here, only a small taste of the PapillonNDL Python binds have been demonstrated. If you are interested in learning more, I encourage you to look at the Library API documentation. This is generated from the C++ header files, but all of the class names and methods are the same (with the exception of the C++ `STReaction` method `yield` which is called `multiplicity` in Python, as yield is a keyword in the language). It will provide more information about all of the options available for each distribution type, and how to access it."
   ]
  }
 ],
 "metadata": {
  "kernelspec": {
   "display_name": "Python 3 (ipykernel)",
   "language": "python",
   "name": "python3"
  },
  "language_info": {
   "codemirror_mode": {
    "name": "ipython",
    "version": 3
   },
   "file_extension": ".py",
   "mimetype": "text/x-python",
   "name": "python",
   "nbconvert_exporter": "python",
   "pygments_lexer": "ipython3",
   "version": "3.10.6"
  }
 },
 "nbformat": 4,
 "nbformat_minor": 4
}
